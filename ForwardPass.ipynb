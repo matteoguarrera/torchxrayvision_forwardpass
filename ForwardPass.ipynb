{
 "cells": [
  {
   "cell_type": "markdown",
   "metadata": {},
   "source": [
    "## Medical Logits Extraction\n",
    "MIMIC is my missing dataset. I don't have the possibity to test the models(**mimic_nb** and **mimic_ch**) on the training data and on the testing data.\n",
    "\n",
    "What is required is four forward passes for each dataset:\n",
    "- on the training dataset\n",
    "    - pre_sigmoid values (logits) and post_sigmoid values(predictions)\n",
    "- on the test dataset \n",
    "    - pre_sigmoid values (logits) and post_sigmoid values(predictions)\n",
    "\n",
    "Most of the code comes from your library"
   ]
  },
  {
   "cell_type": "code",
   "execution_count": 7,
   "metadata": {},
   "outputs": [],
   "source": [
    "# Constant to set \n",
    "dataset_dir = None\n",
    "batch_size = None\n",
    "\n",
    "# Every combination has to be setted 00,01,10,11\n",
    "nb = False # It has to be changed manually\n",
    "sigmoid = False # It has to be changed manually\n",
    "    "
   ]
  },
  {
   "cell_type": "code",
   "execution_count": 3,
   "metadata": {},
   "outputs": [],
   "source": [
    "import torch\n",
    "import torchvision.transforms as trn\n",
    "import torchxrayvision as xrv\n",
    "import numpy as np\n",
    "\n",
    "xray_transform = trn.Compose([  xrv.datasets.XRayCenterCrop(), xrv.datasets.XRayResizer(224)])"
   ]
  },
  {
   "cell_type": "markdown",
   "metadata": {},
   "source": [
    "### Datasets and models for the forward pass"
   ]
  },
  {
   "cell_type": "code",
   "execution_count": null,
   "metadata": {},
   "outputs": [],
   "source": [
    "if nb == True:\n",
    "    dataset = xrv.datasets.MIMIC_Dataset(\n",
    "                                imgpath = dataset_dir + \"/MIMIC/images-224/files\",\n",
    "                                csvpath = dataset_dir + \"/MIMICCXR-2.0/mimic-cxr-2.0.0-negbio.csv.gz\",\n",
    "                                metacsvpath = dataset_dir + \"/MIMICCXR-2.0/mimic-cxr-2.0.0-metadata.csv.gz\",\n",
    "                                transform=xray_transform, data_aug=None)\n",
    "    model = xrv.models.DenseNet(weights=\"mimic_nb\").cuda()\n",
    "    \n",
    "else:\n",
    "    dataset = xrv.datasets.MIMIC_Dataset(\n",
    "                                imgpath = dataset_dir + \"/images-224-MIMIC/files\",\n",
    "                                csvpath = dataset_dir + \"/MIMICCXR-2.0/mimic-cxr-2.0.0-chexpert.csv.gz\",\n",
    "                                metacsvpath = dataset_dir + \"/MIMICCXR-2.0/mimic-cxr-2.0.0-metadata.csv.gz\",\n",
    "                                transform=xray_transform, data_aug=None, unique_patients=False)\n",
    "    model = xrv.models.DenseNet(weights=\"mimic_ch\").cuda() \n",
    "    \n",
    "xrv.datasets.relabel_dataset(xrv.datasets.default_pathologies , dataset) \n",
    "\n",
    "if sigmoid == False:\n",
    "    # Remove sigmoids and normalization based on threshold\n",
    "    model.apply_sigmoid = False\n",
    "    model.op_threshs = None # It removes sigmoids and also \"\"\" the normalization of the outputs according to operating points for a given model\"\"\n",
    "    "
   ]
  },
  {
   "cell_type": "markdown",
   "metadata": {},
   "source": [
    "#### Use the same split to retrive the Training Set and the Test Set"
   ]
  },
  {
   "cell_type": "code",
   "execution_count": null,
   "metadata": {},
   "outputs": [],
   "source": [
    "gss = sklearn.model_selection.GroupShuffleSplit(train_size=0.8,test_size=0.2, random_state=0) #zero seed is used in torchxrayvision\n",
    "train_inds, test_inds = next(gss.split(X=range(len(dataset)), groups=dataset.csv.patientid))\n",
    "train_dataset = xrv.datasets.SubsetDataset(dataset, train_inds)\n",
    "test_dataset = xrv.datasets.SubsetDataset(dataset, test_inds)\n"
   ]
  },
  {
   "cell_type": "code",
   "execution_count": null,
   "metadata": {},
   "outputs": [],
   "source": [
    "train_loader =  torch.utils.data.DataLoader(train_dataset, batch_size=batch_size, \n",
    "                                            shuffle=False, num_workers=4, pin_memory=True) \n",
    "\n",
    "test_loader = torch.utils.data.DataLoader(test_dataset, batch_size=batch_size,\n",
    "                                           shuffle=False, num_workers=4, pin_memory=True)"
   ]
  },
  {
   "cell_type": "markdown",
   "metadata": {},
   "source": [
    "## Forward Pass"
   ]
  },
  {
   "cell_type": "code",
   "execution_count": 5,
   "metadata": {},
   "outputs": [],
   "source": [
    "def get_prediction(loader):\n",
    "    device = torch.device( 'cuda' if torch.cuda.is_available() else 'cpu' ) \n",
    "    _output = []\n",
    "\n",
    "    with torch.no_grad():\n",
    "        for batch_idx, (data_tmp) in enumerate(loader):\n",
    "\n",
    "            data=data_tmp['img'].to(device)\n",
    "\n",
    "            output = model(data)\n",
    "\n",
    "            _output.append(to_np(output))\n",
    "\n",
    "    concat_output = concat(_output).copy()\n",
    "    num_features = concat_output.shape[1]\n",
    "    colnames = [f'_{i}' for i in range(num_features)]\n",
    "    return  pd.DataFrame(concat_output, columns=colnames)\n"
   ]
  },
  {
   "cell_type": "markdown",
   "metadata": {},
   "source": [
    "## Test and Store"
   ]
  },
  {
   "cell_type": "code",
   "execution_count": null,
   "metadata": {},
   "outputs": [],
   "source": [
    "data_frame_train = get_prediction(train_loader)\n",
    "data_frame_train.to_csv(f'train_nb_{nb}_sigmoid_{sigmoid}',index=False)\n",
    "\n",
    "data_frame_test = get_prediction(test_loader)\n",
    "data_frame_test.to_csv(f'test_nb_{nb}_sigmoid_{sigmoid}',index=False)"
   ]
  },
  {
   "cell_type": "code",
   "execution_count": 8,
   "metadata": {},
   "outputs": [
    {
     "name": "stdout",
     "output_type": "stream",
     "text": [
      "train_nb_False_sigmoid_False\n"
     ]
    }
   ],
   "source": [
    "print(f'train_nb_{nb}_sigmoid_{sigmoid}')"
   ]
  }
 ],
 "metadata": {
  "kernelspec": {
   "display_name": "pytorch-v1.4.0",
   "language": "python",
   "name": "pytorch-v1.4.0"
  },
  "language_info": {
   "codemirror_mode": {
    "name": "ipython",
    "version": 3
   },
   "file_extension": ".py",
   "mimetype": "text/x-python",
   "name": "python",
   "nbconvert_exporter": "python",
   "pygments_lexer": "ipython3",
   "version": "3.7.6"
  }
 },
 "nbformat": 4,
 "nbformat_minor": 4
}
